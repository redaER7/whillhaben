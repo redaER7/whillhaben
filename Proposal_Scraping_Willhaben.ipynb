{
 "cells": [
  {
   "cell_type": "code",
   "execution_count": 1,
   "metadata": {},
   "outputs": [],
   "source": [
    "import pandas as pd\n",
    "import numpy as np\n",
    "import requests\n",
    "from bs4 import BeautifulSoup\n",
    "import time\n",
    "import random"
   ]
  },
  {
   "cell_type": "markdown",
   "metadata": {},
   "source": [
    "### Reading URL"
   ]
  },
  {
   "cell_type": "code",
   "execution_count": 55,
   "metadata": {},
   "outputs": [],
   "source": [
    "url='https://www.willhaben.at/iad/immobilien/eigentumswohnung/eigentumswohnung-angebote?'"
   ]
  },
  {
   "cell_type": "markdown",
   "metadata": {},
   "source": [
    "### Scraping links"
   ]
  },
  {
   "cell_type": "code",
   "execution_count": 56,
   "metadata": {},
   "outputs": [],
   "source": [
    "header = {'user-agent': 'Mozilla/5.0 (Macintosh; Intel Mac OS X 10.9; rv:32.0) Gecko/20100101 Firefox/32.0'}\n",
    "#\n",
    "r  = requests.get(url, headers=header,timeout=3)\n",
    "data = r.text\n",
    "soup = BeautifulSoup(data,features=\"html.parser\")\n",
    "##\n",
    "links=[]\n",
    "for row in soup.find_all(\"a\", {\"class\": \"AnchorLink__StyledAnchor-sc-1f4x8m6-0 hdkaPW ResultListAdRowLayout___StyledClientRoutingAnchorLink2-sc-1rmys2w-3 kYANuG\"}):\n",
    "    #s=row.findChildren('a')\n",
    "    links.append(''.join(['https://www.willhaben.at',row.attrs['href']]))\n",
    "##"
   ]
  },
  {
   "cell_type": "markdown",
   "metadata": {},
   "source": [
    "**LINKS OF SINGLE PAGES**"
   ]
  },
  {
   "cell_type": "code",
   "execution_count": 78,
   "metadata": {},
   "outputs": [
    {
     "data": {
      "text/plain": [
       "['https://www.willhaben.at/iad/immobilien/d/eigentumswohnung/wien/wien-1100-favoriten/-ab-2026-u-bahn-u2-juwel-zwischen-matzleinsdorfer-platz-und-erholungsgebiet-wienerberg-471843422/',\n",
       " 'https://www.willhaben.at/iad/immobilien/d/eigentumswohnung/wien/wien-1220-donaustadt/-schnappen-sie-sich-ihren-wohntraum-erstbezugs-neubau-provisionsfrei-top-lage-u1-balkon-terrasse-dc-tower-471843439/',\n",
       " 'https://www.willhaben.at/iad/immobilien/d/eigentumswohnung/wien/wien-1220-donaustadt/exklusives-wohnen-naehe-alte-donau-neu-am-markt-provisionsfrei-471843443/',\n",
       " 'https://www.willhaben.at/iad/immobilien/d/eigentumswohnung/wien/wien-1220-donaustadt/urlaub-vor-der-haustuere-alte-donau-provisionsfrei-u1-erstbezug-perfekter-grundriss-balkon-terrasse-vic-471843444/',\n",
       " 'https://www.willhaben.at/iad/immobilien/d/eigentumswohnung/wien/wien-1100-favoriten/-bestlage-u1-erholungsgebiet-wienerberg-perfekte-ausstattung-neu-am-markt-471843447/']"
      ]
     },
     "execution_count": 78,
     "metadata": {},
     "output_type": "execute_result"
    }
   ],
   "source": [
    "links"
   ]
  },
  {
   "cell_type": "markdown",
   "metadata": {},
   "source": [
    "**EXTRACTING INFORS FOR EACH PAGE**"
   ]
  },
  {
   "cell_type": "code",
   "execution_count": 81,
   "metadata": {
    "scrolled": true
   },
   "outputs": [
    {
     "name": "stdout",
     "output_type": "stream",
     "text": [
      "Visiting URL https://www.willhaben.at/iad/immobilien/d/eigentumswohnung/wien/wien-1100-favoriten/-ab-2026-u-bahn-u2-juwel-zwischen-matzleinsdorfer-platz-und-erholungsgebiet-wienerberg-471843422/\n",
      "Sleeping for: 4\n",
      "Visiting URL https://www.willhaben.at/iad/immobilien/d/eigentumswohnung/wien/wien-1220-donaustadt/-schnappen-sie-sich-ihren-wohntraum-erstbezugs-neubau-provisionsfrei-top-lage-u1-balkon-terrasse-dc-tower-471843439/\n",
      "Sleeping for: 5\n",
      "Visiting URL https://www.willhaben.at/iad/immobilien/d/eigentumswohnung/wien/wien-1220-donaustadt/exklusives-wohnen-naehe-alte-donau-neu-am-markt-provisionsfrei-471843443/\n",
      "Sleeping for: 5\n",
      "Visiting URL https://www.willhaben.at/iad/immobilien/d/eigentumswohnung/wien/wien-1220-donaustadt/urlaub-vor-der-haustuere-alte-donau-provisionsfrei-u1-erstbezug-perfekter-grundriss-balkon-terrasse-vic-471843444/\n",
      "Sleeping for: 5\n",
      "Visiting URL https://www.willhaben.at/iad/immobilien/d/eigentumswohnung/wien/wien-1100-favoriten/-bestlage-u1-erholungsgebiet-wienerberg-perfekte-ausstattung-neu-am-markt-471843447/\n",
      "Sleeping for: 8\n"
     ]
    }
   ],
   "source": [
    "data_all=[]\n",
    "\n",
    "for url in links:\n",
    "    #\n",
    "    print('Visiting URL',url)\n",
    "    r  = requests.get(url, headers=header,timeout=3)\n",
    "    data = r.text\n",
    "    soup = BeautifulSoup(data,features=\"html.parser\")\n",
    "    ##\n",
    "    rows= soup.find(\"ul\", {\"class\": \"PropertyList-e2zq14-0 elNwjl\"})\n",
    "    children = rows.findChildren()\n",
    "    #\n",
    "    val1=children[3].text\n",
    "    val2=children[7].text\n",
    "    val3=children[11].text\n",
    "    val4=children[15].text\n",
    "    val5=children[19].text\n",
    "    #\n",
    "    lst = {\n",
    "    'Objekttyp':val1,\n",
    "    'Bautyp':val2,\n",
    "    'Zustand':val3,\n",
    "    'Wohnfläche':val4,\n",
    "    'Zimmer':val5,\n",
    "    'link':url,\n",
    "    }\n",
    "    ##\n",
    "    data_all.append(lst)\n",
    "    #\n",
    "    n=np.random.randint(4,10)\n",
    "    print('Sleeping for:',n)\n",
    "    time.sleep(8)"
   ]
  },
  {
   "cell_type": "code",
   "execution_count": 87,
   "metadata": {},
   "outputs": [
    {
     "data": {
      "text/html": [
       "<div>\n",
       "<style scoped>\n",
       "    .dataframe tbody tr th:only-of-type {\n",
       "        vertical-align: middle;\n",
       "    }\n",
       "\n",
       "    .dataframe tbody tr th {\n",
       "        vertical-align: top;\n",
       "    }\n",
       "\n",
       "    .dataframe thead th {\n",
       "        text-align: right;\n",
       "    }\n",
       "</style>\n",
       "<table border=\"1\" class=\"dataframe\">\n",
       "  <thead>\n",
       "    <tr style=\"text-align: right;\">\n",
       "      <th></th>\n",
       "      <th>Objekttyp</th>\n",
       "      <th>Bautyp</th>\n",
       "      <th>Zustand</th>\n",
       "      <th>Wohnfläche</th>\n",
       "      <th>Zimmer</th>\n",
       "      <th>link</th>\n",
       "    </tr>\n",
       "  </thead>\n",
       "  <tbody>\n",
       "    <tr>\n",
       "      <th>0</th>\n",
       "      <td>Wohnung</td>\n",
       "      <td>Altbau</td>\n",
       "      <td>Neuwertig</td>\n",
       "      <td>71 m²</td>\n",
       "      <td>2</td>\n",
       "      <td>https://www.willhaben.at/iad/immobilien/d/eige...</td>\n",
       "    </tr>\n",
       "    <tr>\n",
       "      <th>1</th>\n",
       "      <td>Wohnung</td>\n",
       "      <td>Neubau</td>\n",
       "      <td>Erstbezug</td>\n",
       "      <td>43 m²</td>\n",
       "      <td>2</td>\n",
       "      <td>https://www.willhaben.at/iad/immobilien/d/eige...</td>\n",
       "    </tr>\n",
       "    <tr>\n",
       "      <th>2</th>\n",
       "      <td>Wohnung</td>\n",
       "      <td>Neubau</td>\n",
       "      <td>Erstbezug</td>\n",
       "      <td>94 m²</td>\n",
       "      <td>4</td>\n",
       "      <td>https://www.willhaben.at/iad/immobilien/d/eige...</td>\n",
       "    </tr>\n",
       "    <tr>\n",
       "      <th>3</th>\n",
       "      <td>Wohnung</td>\n",
       "      <td>Neubau</td>\n",
       "      <td>Erstbezug</td>\n",
       "      <td>48 m²</td>\n",
       "      <td>2</td>\n",
       "      <td>https://www.willhaben.at/iad/immobilien/d/eige...</td>\n",
       "    </tr>\n",
       "    <tr>\n",
       "      <th>4</th>\n",
       "      <td>Wohnung</td>\n",
       "      <td>Neubau</td>\n",
       "      <td>Erstbezug</td>\n",
       "      <td>39 m²</td>\n",
       "      <td>2</td>\n",
       "      <td>https://www.willhaben.at/iad/immobilien/d/eige...</td>\n",
       "    </tr>\n",
       "  </tbody>\n",
       "</table>\n",
       "</div>"
      ],
      "text/plain": [
       "  Objekttyp  Bautyp    Zustand Wohnfläche Zimmer  \\\n",
       "0   Wohnung  Altbau  Neuwertig      71 m²      2   \n",
       "1   Wohnung  Neubau  Erstbezug      43 m²      2   \n",
       "2   Wohnung  Neubau  Erstbezug      94 m²      4   \n",
       "3   Wohnung  Neubau  Erstbezug      48 m²      2   \n",
       "4   Wohnung  Neubau  Erstbezug      39 m²      2   \n",
       "\n",
       "                                                link  \n",
       "0  https://www.willhaben.at/iad/immobilien/d/eige...  \n",
       "1  https://www.willhaben.at/iad/immobilien/d/eige...  \n",
       "2  https://www.willhaben.at/iad/immobilien/d/eige...  \n",
       "3  https://www.willhaben.at/iad/immobilien/d/eige...  \n",
       "4  https://www.willhaben.at/iad/immobilien/d/eige...  "
      ]
     },
     "execution_count": 87,
     "metadata": {},
     "output_type": "execute_result"
    }
   ],
   "source": [
    "df=pd.DataFrame(data_all)\n",
    "df"
   ]
  },
  {
   "cell_type": "code",
   "execution_count": 86,
   "metadata": {},
   "outputs": [],
   "source": []
  },
  {
   "cell_type": "code",
   "execution_count": null,
   "metadata": {},
   "outputs": [],
   "source": []
  },
  {
   "cell_type": "code",
   "execution_count": null,
   "metadata": {},
   "outputs": [],
   "source": []
  },
  {
   "cell_type": "code",
   "execution_count": null,
   "metadata": {},
   "outputs": [],
   "source": []
  }
 ],
 "metadata": {
  "kernelspec": {
   "display_name": "Python 3",
   "language": "python",
   "name": "python3"
  },
  "language_info": {
   "codemirror_mode": {
    "name": "ipython",
    "version": 3
   },
   "file_extension": ".py",
   "mimetype": "text/x-python",
   "name": "python",
   "nbconvert_exporter": "python",
   "pygments_lexer": "ipython3",
   "version": "3.8.3"
  }
 },
 "nbformat": 4,
 "nbformat_minor": 4
}
